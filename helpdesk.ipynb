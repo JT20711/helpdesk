{
 "cells": [
  {
   "cell_type": "code",
   "execution_count": 213,
   "metadata": {},
   "outputs": [],
   "source": [
    "import numpy as np\n",
    "import pandas as pd\n",
    "import datetime as dt\n",
    "import openpyxl\n",
    "import shutil\n",
    "import os\n",
    "import re"
   ]
  },
  {
   "cell_type": "code",
   "execution_count": 214,
   "metadata": {},
   "outputs": [],
   "source": [
    "filelist = []\n",
    "path_filelist = []"
   ]
  },
  {
   "cell_type": "code",
   "execution_count": 215,
   "metadata": {},
   "outputs": [],
   "source": [
    "# Set control whether to delete ... \n",
    "# setDelete = 0 #0:Not delete xlsx file. 1:To delete xlsx file.\n",
    "# # notes: shutil.move(src, dst, copy_function = copy2)\n",
    "# if setDelete == 1:\n",
    "#     reply = input(\"Warning ... you are about to delete xlsx file, continue (y/n)?\\n\")\n",
    "#     if reply == 'n':\n",
    "#         print( print(\"No delete of xlsx file. Proceed to create....\"))\n",
    "#     elif reply == 'y':\n",
    "#         for root, dirs, files in os.walk(cur_path):\n",
    "#             for dir in dirs:\n",
    "#                 if dir[:2] == \"03\":\n",
    "#                     path1 = os.path.join(root, dir)\n",
    "#                     items = [f for f in os.listdir(path1) if os.path.isfile(os.path.join(path1, f))]\n",
    "#                     for i in items:\n",
    "#                         i_fullPath = os.path.join(path1, i)\n",
    "#                         a = len(i_fullPath)\n",
    "#                         if 'xlsx' in (i_fullPath[a - 4:a]):\n",
    "#                             #print(i_fullPath)\n",
    "#                             FileNotFoundError\n",
    "#                             if os.path.exists(i_fullPath):\n",
    "#                                 os.remove(i_fullPath)\n",
    "#                             else:\n",
    "#                                 print(\"can not delete the file as it does not exists !\\n \")\n",
    "#                         #filelist.append(i_fullpath)\n",
    "# else    :\n",
    "#     print(\"\\nNo delete of xlsx file. Proceed to create....\")"
   ]
  },
  {
   "cell_type": "markdown",
   "metadata": {},
   "source": [
    "#### Create xlsx file in respective folders '02. Monthly Reports - 23xx.Mmm_23'"
   ]
  },
  {
   "cell_type": "code",
   "execution_count": 216,
   "metadata": {},
   "outputs": [
    {
     "name": "stdout",
     "output_type": "stream",
     "text": [
      "dir 02. Monthly Reports\\99. Archive\\2022\\2201.Jan_22\\03 Straits Helpdesk Reports++: csv\n",
      "dir 02. Monthly Reports\\99. Archive\\2022\\2202.Feb_22\\03 Straits Helpdesk Reports++: csv\n",
      "dir 02. Monthly Reports\\99. Archive\\2022\\2203.Mar_22\\03 Straits Helpdesk Reports++: csv\n",
      "dir 02. Monthly Reports\\99. Archive\\2022\\2204.Apr_22\\03 Straits Helpdesk Reports++: csv\n",
      "dir 02. Monthly Reports\\99. Archive\\2022\\2205.May_22\\03 Straits Helpdesk Reports++: tsv\n",
      "dir 02. Monthly Reports\\99. Archive\\2022\\2206.Jun_22\\03 Straits Helpdesk Reports++: tsv\n",
      "dir 02. Monthly Reports\\99. Archive\\2022\\2207.Jul_22\\03 Straits Helpdesk Reports++: tsv\n",
      "dir 02. Monthly Reports\\99. Archive\\2022\\2208.Aug_22\\03 Straits Helpdesk Reports++: tsv\n",
      "dir 02. Monthly Reports\\99. Archive\\2022\\2209.Sep_22\\03 Straits Helpdesk Reports++: tsv\n",
      "dir 02. Monthly Reports\\99. Archive\\2022\\2210.Oct_22\\03 Straits Helpdesk Reports++: tsv\n",
      "dir 02. Monthly Reports\\99. Archive\\2022\\2211.Nov_22\\03 Straits Helpdesk Reports++: tsv\n",
      "dir 02. Monthly Reports\\99. Archive\\2022\\2212.Dec_22\\03 Straits Helpdesk Reports++: tsv\n"
     ]
    }
   ],
   "source": [
    "# Get the files from the respective folders in a file list.\n",
    "#\n",
    "in_path = r'02. Monthly Reports\\99. Archive\\2022'\n",
    "#\n",
    "for root, dirs, files in os.walk(in_path):\n",
    "    for dir in dirs:\n",
    "        if dir[:3] == '03 ':\n",
    "            nextPath = os.path.join(root, dir)\n",
    "            \n",
    "            files = [f for f in os.listdir(nextPath) if os.path.isfile(os.path.join(nextPath,f))]\n",
    "            for file in files:\n",
    "                if file[-3:] in ['csv','tsv']:\n",
    "                    print(\"dir %s: %s\" %(nextPath, file[-3:]))\n",
    "                    filelist.append(file)\n",
    "                    path_filelist.append(os.path.join(nextPath, file))\n",
    "            # get the path for export the xls file\n",
    "        #\n",
    "        #if dir[:3] == \"03 \":\n",
    "        #    path1 = os.path.join(root, dir)\n",
    "        #    items = [f for f in os.listdir(path1) if os.path.isfile(os.path.join(path1, f))]\n",
    "        #    for i in items:\n",
    "        #        i_fullpath = os.path.join(path1, i)\n",
    "        #        print(i_fullpath)\n",
    "        #        filelist.append(i_fullpath)"
   ]
  },
  {
   "cell_type": "code",
   "execution_count": 217,
   "metadata": {},
   "outputs": [],
   "source": [
    "# For each file in the file list, \n",
    "for j in path_filelist:\n",
    "    # check if file is csv or tsv\n",
    "    if j[-3:] == 'csv':\n",
    "        #print(j)\n",
    "        df = pd.read_csv(j)\n",
    "    else:\n",
    "        if j[-3:] == 'tsv':\n",
    "            #print(j)\n",
    "            df = pd.read_csv(j, sep = '\\t')\n",
    "    #\n",
    "    fname = j[-15:-4]\n",
    "    outPath_fname = j[:-4] + '.xlsx'\n",
    "    #print(fname)\n",
    "    #print(outPath_fname)\n",
    "    df.to_excel(outPath_fname, sheet_name = fname, index = False)\n",
    "    # full_name_noext = re.findall('(.*)\\.tsv', full_name)\n",
    "    # out_fname = full_name_noext[0] + '.xlsx'\n",
    "    # short_name = full_name[len(full_name)-15:len(full_name)]\n",
    "    # #print(full_name_noext)\n",
    "    # sh_name = re.findall('(.*)\\..*',short_name)\n",
    "    # #print(sh_name[0])\n",
    "    # df.to_excel(out_fname, sheet_name = sh_name[0], index = False )"
   ]
  },
  {
   "cell_type": "code",
   "execution_count": 218,
   "metadata": {},
   "outputs": [
    {
     "data": {
      "text/plain": [
       "'c:\\\\Users\\\\jim.tan\\\\Desktop\\\\MyDoc\\\\3_Jupyter\\\\data\\\\mth_rpt'"
      ]
     },
     "execution_count": 218,
     "metadata": {},
     "output_type": "execute_result"
    }
   ],
   "source": [
    "os.getcwd()"
   ]
  },
  {
   "cell_type": "markdown",
   "metadata": {},
   "source": [
    "#### Combined all"
   ]
  },
  {
   "cell_type": "code",
   "execution_count": 219,
   "metadata": {},
   "outputs": [],
   "source": [
    "#for j in range(0, len(filelist)):\n",
    "#    if j == 0:\n",
    "#        df0 = pd.read_csv(filelist[j], sep='\\t')\n",
    "#    elif j>0:\n",
    "#        df1 = pd.read_csv(filelist[j], sep ='\\t')\n",
    "#    \n",
    "#    if j == 1:\n",
    "#        df2 = pd.concat([df0,df1])\n",
    "#    elif j > 1:\n",
    "#        df = pd.concat([df2,df1])\n",
    "#        df2 = df.copy()\n",
    "#"
   ]
  },
  {
   "cell_type": "code",
   "execution_count": 220,
   "metadata": {},
   "outputs": [],
   "source": [
    "#checking only.\n",
    "# for j in range(0, len(filelist)):\n",
    "#    df = pd.read_csv(filelist[j], sep='\\t')\n",
    "#    print(df.shape)"
   ]
  },
  {
   "cell_type": "code",
   "execution_count": 221,
   "metadata": {},
   "outputs": [],
   "source": [
    " #df_tck = df2.copy()"
   ]
  },
  {
   "cell_type": "code",
   "execution_count": 222,
   "metadata": {},
   "outputs": [],
   "source": [
    "#df_tck.columns"
   ]
  },
  {
   "cell_type": "code",
   "execution_count": 223,
   "metadata": {},
   "outputs": [],
   "source": [
    "#df_tck.columns = map(str.lower,df_tck.columns)"
   ]
  },
  {
   "cell_type": "code",
   "execution_count": 224,
   "metadata": {},
   "outputs": [],
   "source": [
    "#df_tck['date1'] = pd.to_datetime(df_tck['date'])"
   ]
  },
  {
   "cell_type": "code",
   "execution_count": 225,
   "metadata": {},
   "outputs": [],
   "source": [
    "#df_tck_byMth = df_tck.groupby(by = [df_tck['date1'].dt.month,'status']).count()"
   ]
  },
  {
   "cell_type": "code",
   "execution_count": 226,
   "metadata": {},
   "outputs": [],
   "source": [
    "#df_tck_byMth.head()"
   ]
  }
 ],
 "metadata": {
  "kernelspec": {
   "display_name": "june_venv",
   "language": "python",
   "name": "python3"
  },
  "language_info": {
   "codemirror_mode": {
    "name": "ipython",
    "version": 3
   },
   "file_extension": ".py",
   "mimetype": "text/x-python",
   "name": "python",
   "nbconvert_exporter": "python",
   "pygments_lexer": "ipython3",
   "version": "3.11.3"
  },
  "orig_nbformat": 4
 },
 "nbformat": 4,
 "nbformat_minor": 2
}
